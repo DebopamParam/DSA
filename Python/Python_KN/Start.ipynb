{
 "cells": [
  {
   "cell_type": "markdown",
   "id": "e274b5f8",
   "metadata": {},
   "source": [
    " ## Hi, I'm starting to learn python all frm beginning from Krish Naik\n",
    " \n",
    "     1. Main jupyther notebook me pehli baar code likhne jaa raha hu. Wish me luck"
   ]
  },
  {
   "cell_type": "code",
   "execution_count": null,
   "id": "0126a7eb",
   "metadata": {},
   "outputs": [],
   "source": []
  }
 ],
 "metadata": {
  "kernelspec": {
   "display_name": "Python 3 (ipykernel)",
   "language": "python",
   "name": "python3"
  },
  "language_info": {
   "codemirror_mode": {
    "name": "ipython",
    "version": 3
   },
   "file_extension": ".py",
   "mimetype": "text/x-python",
   "name": "python",
   "nbconvert_exporter": "python",
   "pygments_lexer": "ipython3",
   "version": "3.11.5"
  }
 },
 "nbformat": 4,
 "nbformat_minor": 5
}
